{
 "cells": [
  {
   "cell_type": "code",
   "execution_count": 2,
   "id": "87b069b3",
   "metadata": {
    "scrolled": false
   },
   "outputs": [
    {
     "name": "stdout",
     "output_type": "stream",
     "text": [
      "['False', 'None', 'True', 'and', 'as', 'assert', 'async', 'await', 'break', 'class', 'continue', 'def', 'del', 'elif', 'else', 'except', 'finally', 'for', 'from', 'global', 'if', 'import', 'in', 'is', 'lambda', 'nonlocal', 'not', 'or', 'pass', 'raise', 'return', 'try', 'while', 'with', 'yield']\n",
      "\n",
      "Total number of keywords:  35\n"
     ]
    }
   ],
   "source": [
    "#get keyowords in python 3.6\n",
    "\n",
    "import keyword\n",
    "\n",
    "print(keyword.kwlist)\n",
    "\n",
    "print(\"\\nTotal number of keywords: \", len(keyword.kwlist))"
   ]
  },
  {
   "cell_type": "code",
   "execution_count": 2,
   "id": "45471b8d",
   "metadata": {},
   "outputs": [
    {
     "ename": "SyntaxError",
     "evalue": "invalid syntax (367435109.py, line 2)",
     "output_type": "error",
     "traceback": [
      "\u001b[1;36m  Cell \u001b[1;32mIn[2], line 2\u001b[1;36m\u001b[0m\n\u001b[1;33m    global = 1;\u001b[0m\n\u001b[1;37m           ^\u001b[0m\n\u001b[1;31mSyntaxError\u001b[0m\u001b[1;31m:\u001b[0m invalid syntax\n"
     ]
    }
   ],
   "source": [
    "xyz = 12;\n",
    "global = 1;"
   ]
  },
  {
   "cell_type": "code",
   "execution_count": 6,
   "id": "c1baf0fe",
   "metadata": {},
   "outputs": [
    {
     "name": "stdout",
     "output_type": "stream",
     "text": [
      "Hello, world\n"
     ]
    }
   ],
   "source": [
    "#print Hello, world to console\n",
    "print(\"Hello, world\")"
   ]
  },
  {
   "cell_type": "code",
   "execution_count": 3,
   "id": "7d7f6392",
   "metadata": {},
   "outputs": [
    {
     "ename": "IndentationError",
     "evalue": "unindent does not match any outer indentation level (<tokenize>, line 4)",
     "output_type": "error",
     "traceback": [
      "\u001b[1;36m  File \u001b[1;32m<tokenize>:4\u001b[1;36m\u001b[0m\n\u001b[1;33m    print(100)\u001b[0m\n\u001b[1;37m    ^\u001b[0m\n\u001b[1;31mIndentationError\u001b[0m\u001b[1;31m:\u001b[0m unindent does not match any outer indentation level\n"
     ]
    }
   ],
   "source": [
    "for i in range(10):\n",
    "    print(i)\n",
    "    print(i*2)\n",
    " print(100)"
   ]
  },
  {
   "cell_type": "code",
   "execution_count": 15,
   "id": "32c95ac4",
   "metadata": {
    "scrolled": true
   },
   "outputs": [
    {
     "name": "stdout",
     "output_type": "stream",
     "text": [
      "Machine Learning\n"
     ]
    }
   ],
   "source": [
    "if True:\n",
    "    print(\"Machine Learning\")\n",
    "    c = \"AAIC\""
   ]
  },
  {
   "cell_type": "code",
   "execution_count": 16,
   "id": "0ac223be",
   "metadata": {},
   "outputs": [
    {
     "name": "stdout",
     "output_type": "stream",
     "text": [
      "Machine Learning\n"
     ]
    },
    {
     "data": {
      "text/plain": [
       "'; used as delimiter means it tells that line ends here and second line\\nstarts after it'"
      ]
     },
     "execution_count": 16,
     "metadata": {},
     "output_type": "execute_result"
    }
   ],
   "source": [
    "if True:print(\"Machine Learning\"); c = \"AAIC\"\n",
    "\n",
    "\"\"\"; used as delimiter means it tells that line ends here and second line\n",
    "starts after it\"\"\"\n",
    "\n",
    "#better write like this as much more readible..."
   ]
  },
  {
   "cell_type": "code",
   "execution_count": 17,
   "id": "d8b2dc84",
   "metadata": {},
   "outputs": [],
   "source": [
    "#python statement\n",
    "\n",
    "a = 1 #single statement"
   ]
  },
  {
   "cell_type": "code",
   "execution_count": 18,
   "id": "943b2f4c",
   "metadata": {},
   "outputs": [],
   "source": [
    "#multi-line statement (use \\(backslash) which tells part of same line)\n",
    "\n",
    "a = 1 + 2 + 3 + \\\n",
    "    4 + 5 + 6 + \\\n",
    "    7 + 8"
   ]
  },
  {
   "cell_type": "code",
   "execution_count": 20,
   "id": "d72244da",
   "metadata": {},
   "outputs": [
    {
     "name": "stdout",
     "output_type": "stream",
     "text": [
      "36\n"
     ]
    }
   ],
   "source": [
    "#another way is use paranthesis\n",
    "a = (1 + 2 + 3 +\n",
    "  4 + 5 + 6 +\n",
    "  7 + 8)\n",
    "print(a)"
   ]
  },
  {
   "cell_type": "code",
   "execution_count": 22,
   "id": "88eee575",
   "metadata": {},
   "outputs": [
    {
     "data": {
      "text/plain": [
       "'put multiple statements in a single line using ;\\n   for writing short code snippets'"
      ]
     },
     "execution_count": 22,
     "metadata": {},
     "output_type": "execute_result"
    }
   ],
   "source": [
    "a = 10; b = 20; c = 30 \n",
    "'''put multiple statements in a single line using ;\n",
    "   for writing short code snippets'''"
   ]
  },
  {
   "cell_type": "code",
   "execution_count": 24,
   "id": "1e7b0e29",
   "metadata": {},
   "outputs": [],
   "source": [
    "#we use the assignment operator (=) to assign values to a variable\n",
    "\n",
    "a = 10  #integer\n",
    "b = 5.5 #float\n",
    "c = \"ML\" #string"
   ]
  },
  {
   "cell_type": "code",
   "execution_count": 25,
   "id": "6336d806",
   "metadata": {},
   "outputs": [],
   "source": [
    "a, b, c = 10, 5.5, \"ML\""
   ]
  },
  {
   "cell_type": "code",
   "execution_count": 26,
   "id": "81c26b06",
   "metadata": {},
   "outputs": [],
   "source": [
    "a = b = c = \"AI\"\n",
    "#assign the same value to multiple variables at once"
   ]
  },
  {
   "cell_type": "code",
   "execution_count": 27,
   "id": "f55f6a63",
   "metadata": {},
   "outputs": [
    {
     "name": "stdout",
     "output_type": "stream",
     "text": [
      "140720503559016\n"
     ]
    }
   ],
   "source": [
    "x = 3\n",
    "\n",
    "print(id(x)) #print address of variable x"
   ]
  },
  {
   "cell_type": "code",
   "execution_count": 28,
   "id": "281bc2db",
   "metadata": {},
   "outputs": [
    {
     "name": "stdout",
     "output_type": "stream",
     "text": [
      "140720503559016\n"
     ]
    }
   ],
   "source": [
    "y = 3\n",
    "\n",
    "print(id(y)) #print address of variable x"
   ]
  },
  {
   "cell_type": "code",
   "execution_count": 29,
   "id": "9b784bd9",
   "metadata": {},
   "outputs": [],
   "source": [
    "#in above both x and y points to same memory location\n",
    "#(saves lot of spaces)"
   ]
  },
  {
   "cell_type": "code",
   "execution_count": 30,
   "id": "a6ba77fc",
   "metadata": {},
   "outputs": [
    {
     "name": "stdout",
     "output_type": "stream",
     "text": [
      "140720503558984\n"
     ]
    }
   ],
   "source": [
    "y = 2\n",
    "\n",
    "print(id(y)) #print address of variable y"
   ]
  },
  {
   "cell_type": "code",
   "execution_count": 31,
   "id": "57c74426",
   "metadata": {},
   "outputs": [
    {
     "name": "stdout",
     "output_type": "stream",
     "text": [
      "5  is of type <class 'int'>\n"
     ]
    }
   ],
   "source": [
    "#Data types: \n",
    "\n",
    "#Numbers:\n",
    "\n",
    "a = 5       #data type is implicitly set to integer\n",
    "print(a, \" is of type\", type(a))"
   ]
  },
  {
   "cell_type": "code",
   "execution_count": 32,
   "id": "380c2acc",
   "metadata": {},
   "outputs": [
    {
     "name": "stdout",
     "output_type": "stream",
     "text": [
      "2.5  is of type <class 'float'>\n"
     ]
    }
   ],
   "source": [
    "a  = 2.5  #data type is changed to float\n",
    "print(a, \" is of type\", type(a))"
   ]
  },
  {
   "cell_type": "code",
   "execution_count": 35,
   "id": "b743d3b9",
   "metadata": {},
   "outputs": [
    {
     "name": "stdout",
     "output_type": "stream",
     "text": [
      "(1+2j)  is a complex number?\n",
      "True\n",
      "<class 'complex'>\n"
     ]
    }
   ],
   "source": [
    "a = 1 + 2j            #data type is changed to complex number\n",
    "print(a, \" is a complex number?\")\n",
    "print(isinstance(1+2j, complex))\n",
    "\n",
    "#isinstance(variable,data_type of the variable) function \n",
    "#doing a boolean check here that wether the \n",
    "#given number i.e. a is complex or not\n",
    "\n",
    "print(type(a))"
   ]
  },
  {
   "cell_type": "code",
   "execution_count": 36,
   "id": "0c40ba87",
   "metadata": {},
   "outputs": [
    {
     "name": "stdout",
     "output_type": "stream",
     "text": [
      "<class 'bool'>\n"
     ]
    }
   ],
   "source": [
    "#Boolean\n",
    "a = True       #a is a boolean type\n",
    "print(type(a))"
   ]
  },
  {
   "cell_type": "code",
   "execution_count": 37,
   "id": "4cb0092b",
   "metadata": {},
   "outputs": [
    {
     "name": "stdout",
     "output_type": "stream",
     "text": [
      "This is Online AI course\n",
      "<class 'str'>\n",
      "This is Online AI course\n",
      "<class 'str'>\n"
     ]
    }
   ],
   "source": [
    "#Python Strings\n",
    "\n",
    "s = 'This is Online AI course' \n",
    "a = \"This is Online AI course\" #both ' and \" works for string\n",
    "\n",
    "print(s)\n",
    "print(type(s))\n",
    "\n",
    "print(a)\n",
    "print(type(a))"
   ]
  },
  {
   "cell_type": "code",
   "execution_count": 38,
   "id": "a97e8ee6",
   "metadata": {},
   "outputs": [
    {
     "name": "stdout",
     "output_type": "stream",
     "text": [
      "This is Online\n",
      "       AI course\n",
      "<class 'str'>\n",
      "This is Online \n",
      "       AI course\n",
      "<class 'str'>\n"
     ]
    }
   ],
   "source": [
    "#multi-line string\n",
    "\n",
    "s = '''This is Online\n",
    "       AI course'''\n",
    "a = \"\"\"This is Online \n",
    "       AI course\"\"\"     #use ''' or \"\"\" for multi-line string\n",
    "\n",
    "print(s)\n",
    "print(type(s))\n",
    "\n",
    "print(a)\n",
    "print(type(a))"
   ]
  },
  {
   "cell_type": "code",
   "execution_count": 39,
   "id": "a5f4188e",
   "metadata": {},
   "outputs": [
    {
     "name": "stdout",
     "output_type": "stream",
     "text": [
      "T\n"
     ]
    }
   ],
   "source": [
    "#Indexing in python string\n",
    "print(s[0])      #print first character of string\n",
    "                 #IN PYTHON INDEXING STARTS FROM 0"
   ]
  },
  {
   "cell_type": "code",
   "execution_count": 40,
   "id": "07bcabd1",
   "metadata": {},
   "outputs": [
    {
     "name": "stdout",
     "output_type": "stream",
     "text": [
      "e\n",
      "s\n"
     ]
    }
   ],
   "source": [
    "print(s[-1])          #print second last character of string\n",
    "print(s[-2])          #print second last character of string"
   ]
  },
  {
   "cell_type": "code",
   "execution_count": 41,
   "id": "f1e85677",
   "metadata": {},
   "outputs": [
    {
     "name": "stdout",
     "output_type": "stream",
     "text": [
      "e\n"
     ]
    }
   ],
   "source": [
    "#or to print last character s[len(s)-1]\n",
    "print(s[len(s)-1])"
   ]
  },
  {
   "cell_type": "code",
   "execution_count": 42,
   "id": "dad0891d",
   "metadata": {},
   "outputs": [
    {
     "data": {
      "text/plain": [
       "'is Online\\n       AI course'"
      ]
     },
     "execution_count": 42,
     "metadata": {},
     "output_type": "execute_result"
    }
   ],
   "source": [
    "#Slicing\n",
    "s[5:]      #want everything from the index 5 to end (: means 'to')"
   ]
  },
  {
   "cell_type": "code",
   "execution_count": 43,
   "id": "74ef3b62",
   "metadata": {},
   "outputs": [
    {
     "data": {
      "text/plain": [
       "'is On'"
      ]
     },
     "execution_count": 43,
     "metadata": {},
     "output_type": "execute_result"
    }
   ],
   "source": [
    "s[5:10]   #want everything from index 5 to 10-1"
   ]
  },
  {
   "cell_type": "code",
   "execution_count": 45,
   "id": "19628d1c",
   "metadata": {},
   "outputs": [
    {
     "name": "stdout",
     "output_type": "stream",
     "text": [
      "Hello <class 'list'>\n"
     ]
    }
   ],
   "source": [
    "#Python list\n",
    "\n",
    "a = [10, 20.5, \"Hello\"]    \n",
    "print(a[2],type(a))"
   ]
  },
  {
   "cell_type": "code",
   "execution_count": 47,
   "id": "fa8c4b47",
   "metadata": {},
   "outputs": [
    {
     "name": "stdout",
     "output_type": "stream",
     "text": [
      "[10, 30.7, 'Hello']\n"
     ]
    }
   ],
   "source": [
    "a[1] = 30.7\n",
    "print(a)"
   ]
  },
  {
   "cell_type": "code",
   "execution_count": 49,
   "id": "c8d18597",
   "metadata": {},
   "outputs": [],
   "source": [
    "#Python tuples\n",
    "\n",
    "t = (1,1.5, \"ML\")"
   ]
  },
  {
   "cell_type": "code",
   "execution_count": 51,
   "id": "1eea67b5",
   "metadata": {},
   "outputs": [
    {
     "name": "stdout",
     "output_type": "stream",
     "text": [
      "1.5\n"
     ]
    }
   ],
   "source": [
    "print(t[1])"
   ]
  },
  {
   "cell_type": "code",
   "execution_count": 52,
   "id": "2ddf0eaf",
   "metadata": {},
   "outputs": [
    {
     "ename": "TypeError",
     "evalue": "'tuple' object does not support item assignment",
     "output_type": "error",
     "traceback": [
      "\u001b[1;31m---------------------------------------------------------------------------\u001b[0m",
      "\u001b[1;31mTypeError\u001b[0m                                 Traceback (most recent call last)",
      "Cell \u001b[1;32mIn[52], line 1\u001b[0m\n\u001b[1;32m----> 1\u001b[0m t[\u001b[38;5;241m1\u001b[39m] \u001b[38;5;241m=\u001b[39m \u001b[38;5;241m1.25\u001b[39m\n",
      "\u001b[1;31mTypeError\u001b[0m: 'tuple' object does not support item assignment"
     ]
    }
   ],
   "source": [
    "t[1] = 1.25"
   ]
  },
  {
   "cell_type": "code",
   "execution_count": 53,
   "id": "b0a9c122",
   "metadata": {},
   "outputs": [
    {
     "name": "stdout",
     "output_type": "stream",
     "text": [
      "{20, 5, 40, 10, 30}\n"
     ]
    }
   ],
   "source": [
    "#Python Sets\n",
    "a = {10, 30, 20, 40, 5}\n",
    "print(a)"
   ]
  },
  {
   "cell_type": "code",
   "execution_count": 54,
   "id": "43e62859",
   "metadata": {},
   "outputs": [
    {
     "name": "stdout",
     "output_type": "stream",
     "text": [
      "<class 'set'>\n"
     ]
    }
   ],
   "source": [
    "print(type(a))"
   ]
  },
  {
   "cell_type": "code",
   "execution_count": 55,
   "id": "e914e11d",
   "metadata": {},
   "outputs": [
    {
     "name": "stdout",
     "output_type": "stream",
     "text": [
      "{10, 20, 30}\n"
     ]
    }
   ],
   "source": [
    "#we can perform set operations like union, intersection on two sets.\n",
    "#Sets have unique values\n",
    "\n",
    "a = {10, 20, 20, 30, 30, 30}\n",
    "print(a)     #automatically set won't consider duplicate elements"
   ]
  },
  {
   "cell_type": "code",
   "execution_count": 57,
   "id": "2d6969f2",
   "metadata": {},
   "outputs": [
    {
     "ename": "TypeError",
     "evalue": "'set' object is not subscriptable",
     "output_type": "error",
     "traceback": [
      "\u001b[1;31m---------------------------------------------------------------------------\u001b[0m",
      "\u001b[1;31mTypeError\u001b[0m                                 Traceback (most recent call last)",
      "Cell \u001b[1;32mIn[57], line 2\u001b[0m\n\u001b[0;32m      1\u001b[0m \u001b[38;5;66;03m# ^ set here is like maths only as set does'nt stores duplicate elements\u001b[39;00m\n\u001b[1;32m----> 2\u001b[0m \u001b[38;5;28mprint\u001b[39m(a[\u001b[38;5;241m1\u001b[39m])\n",
      "\u001b[1;31mTypeError\u001b[0m: 'set' object is not subscriptable"
     ]
    }
   ],
   "source": [
    "# ^ set here is like maths only as set does'nt stores duplicate elements\n",
    "print(a[1]) #we can't print particular element in a set because\n",
    "            #it's unordered collection of items(doesn't supports indexing)"
   ]
  },
  {
   "cell_type": "code",
   "execution_count": 58,
   "id": "c9ad5607",
   "metadata": {},
   "outputs": [
    {
     "name": "stdout",
     "output_type": "stream",
     "text": [
      "apple\n"
     ]
    }
   ],
   "source": [
    "#Python Dictionary\n",
    "\n",
    "d  = {'a': \"apple\", 'b': \"bat\"} #declared like sets but different as values \n",
    "print(d['a'])                   #are put different inside dictionary"
   ]
  },
  {
   "cell_type": "code",
   "execution_count": 60,
   "id": "c6c41190",
   "metadata": {},
   "outputs": [
    {
     "ename": "KeyError",
     "evalue": "'c'",
     "output_type": "error",
     "traceback": [
      "\u001b[1;31m---------------------------------------------------------------------------\u001b[0m",
      "\u001b[1;31mKeyError\u001b[0m                                  Traceback (most recent call last)",
      "Cell \u001b[1;32mIn[60], line 2\u001b[0m\n\u001b[0;32m      1\u001b[0m d  \u001b[38;5;241m=\u001b[39m {\u001b[38;5;124m'\u001b[39m\u001b[38;5;124ma\u001b[39m\u001b[38;5;124m'\u001b[39m: \u001b[38;5;124m\"\u001b[39m\u001b[38;5;124mapple\u001b[39m\u001b[38;5;124m\"\u001b[39m, \u001b[38;5;124m'\u001b[39m\u001b[38;5;124mb\u001b[39m\u001b[38;5;124m'\u001b[39m: \u001b[38;5;124m\"\u001b[39m\u001b[38;5;124mbat\u001b[39m\u001b[38;5;124m\"\u001b[39m}\n\u001b[1;32m----> 2\u001b[0m \u001b[38;5;28mprint\u001b[39m(d[\u001b[38;5;124m'\u001b[39m\u001b[38;5;124mc\u001b[39m\u001b[38;5;124m'\u001b[39m])\n",
      "\u001b[1;31mKeyError\u001b[0m: 'c'"
     ]
    }
   ],
   "source": [
    "d  = {'a': \"apple\", 'b': \"bat\"}\n",
    "print(d['c'])"
   ]
  },
  {
   "cell_type": "code",
   "execution_count": 61,
   "id": "5e8bbff7",
   "metadata": {},
   "outputs": [
    {
     "data": {
      "text/plain": [
       "5.0"
      ]
     },
     "execution_count": 61,
     "metadata": {},
     "output_type": "execute_result"
    }
   ],
   "source": [
    "#Conversion between datatypes\n",
    "\n",
    "float(5)   #convert integer to float using float() method"
   ]
  },
  {
   "cell_type": "code",
   "execution_count": 62,
   "id": "be3c66cd",
   "metadata": {},
   "outputs": [
    {
     "data": {
      "text/plain": [
       "100"
      ]
     },
     "execution_count": 62,
     "metadata": {},
     "output_type": "execute_result"
    }
   ],
   "source": [
    "int(100.5)     #convert float to integer using int() method"
   ]
  },
  {
   "cell_type": "code",
   "execution_count": 63,
   "id": "01e7e823",
   "metadata": {},
   "outputs": [
    {
     "data": {
      "text/plain": [
       "'20'"
      ]
     },
     "execution_count": 63,
     "metadata": {},
     "output_type": "execute_result"
    }
   ],
   "source": [
    "str(20)      #convert integer to string"
   ]
  },
  {
   "cell_type": "code",
   "execution_count": 64,
   "id": "5dfee3da",
   "metadata": {},
   "outputs": [
    {
     "ename": "ValueError",
     "evalue": "invalid literal for int() with base 10: '10p'",
     "output_type": "error",
     "traceback": [
      "\u001b[1;31m---------------------------------------------------------------------------\u001b[0m",
      "\u001b[1;31mValueError\u001b[0m                                Traceback (most recent call last)",
      "Cell \u001b[1;32mIn[64], line 3\u001b[0m\n\u001b[0;32m      1\u001b[0m \u001b[38;5;66;03m#Conversion to and from string must contain compatible values.\u001b[39;00m\n\u001b[1;32m----> 3\u001b[0m \u001b[38;5;28mint\u001b[39m(\u001b[38;5;124m'\u001b[39m\u001b[38;5;124m10p\u001b[39m\u001b[38;5;124m'\u001b[39m)\n",
      "\u001b[1;31mValueError\u001b[0m: invalid literal for int() with base 10: '10p'"
     ]
    }
   ],
   "source": [
    "#Conversion to and from string must contain compatible values.\n",
    "\n",
    "int('10p')    #not a compatible value, so can't be converted"
   ]
  },
  {
   "cell_type": "code",
   "execution_count": 2,
   "id": "9b084710",
   "metadata": {},
   "outputs": [
    {
     "name": "stdout",
     "output_type": "stream",
     "text": [
      "Congratulations, Abhishek! You just wrote 100lines of code\n"
     ]
    }
   ],
   "source": [
    "user = \"Abhishek\"\n",
    "lines = 100\n",
    "\n",
    "print(\"Congratulations, \" + user + \"! You just wrote \" + str(lines) + \"lines of code\")\n",
    "#remove str and gives error"
   ]
  },
  {
   "cell_type": "code",
   "execution_count": 67,
   "id": "052cce19",
   "metadata": {},
   "outputs": [
    {
     "ename": "TypeError",
     "evalue": "can only concatenate str (not \"int\") to str",
     "output_type": "error",
     "traceback": [
      "\u001b[1;31m---------------------------------------------------------------------------\u001b[0m",
      "\u001b[1;31mTypeError\u001b[0m                                 Traceback (most recent call last)",
      "Cell \u001b[1;32mIn[67], line 4\u001b[0m\n\u001b[0;32m      1\u001b[0m user \u001b[38;5;241m=\u001b[39m \u001b[38;5;124m\"\u001b[39m\u001b[38;5;124mAbhishek\u001b[39m\u001b[38;5;124m\"\u001b[39m\n\u001b[0;32m      2\u001b[0m lines \u001b[38;5;241m=\u001b[39m \u001b[38;5;241m100\u001b[39m\n\u001b[1;32m----> 4\u001b[0m \u001b[38;5;28mprint\u001b[39m(\u001b[38;5;124m\"\u001b[39m\u001b[38;5;124mCongratulations, \u001b[39m\u001b[38;5;124m\"\u001b[39m \u001b[38;5;241m+\u001b[39m user \u001b[38;5;241m+\u001b[39m \u001b[38;5;124m\"\u001b[39m\u001b[38;5;124m! You just wrote \u001b[39m\u001b[38;5;124m\"\u001b[39m \u001b[38;5;241m+\u001b[39m lines \u001b[38;5;241m+\u001b[39m \u001b[38;5;124m\"\u001b[39m\u001b[38;5;124mlines of code\u001b[39m\u001b[38;5;124m\"\u001b[39m)\n",
      "\u001b[1;31mTypeError\u001b[0m: can only concatenate str (not \"int\") to str"
     ]
    }
   ],
   "source": [
    "user = \"Abhishek\"\n",
    "lines = 100\n",
    "\n",
    "print(\"Congratulations, \" + user + \"! You just wrote \" + lines + \"lines of code\")"
   ]
  },
  {
   "cell_type": "code",
   "execution_count": 68,
   "id": "e8223dde",
   "metadata": {},
   "outputs": [
    {
     "name": "stdout",
     "output_type": "stream",
     "text": [
      "<class 'list'>\n",
      "<class 'set'>\n"
     ]
    }
   ],
   "source": [
    "#We can convert one sequence to other\n",
    "\n",
    "a = [1, 2, 3]\n",
    "\n",
    "print(type(a))    #type of a is list\n",
    "\n",
    "s = set(a)        #converted list to set using set() method\n",
    "\n",
    "print(type(s))    #now type of s is set"
   ]
  },
  {
   "cell_type": "code",
   "execution_count": 69,
   "id": "979d4940",
   "metadata": {},
   "outputs": [
    {
     "data": {
      "text/plain": [
       "['H', 'e', 'l', 'l', 'o']"
      ]
     },
     "execution_count": 69,
     "metadata": {},
     "output_type": "execute_result"
    }
   ],
   "source": [
    "list(\"Hello\")     #Convert string to list using list() method\n",
    "\n",
    "                  #a way to break-up a string into it's character list"
   ]
  },
  {
   "cell_type": "code",
   "execution_count": 70,
   "id": "29777d12",
   "metadata": {},
   "outputs": [
    {
     "name": "stdout",
     "output_type": "stream",
     "text": [
      "Hello World\n"
     ]
    }
   ],
   "source": [
    "#[Lec 2.6] Standard Input and Output\n",
    "#Input formatting\n",
    "\n",
    "print(\"Hello World\")"
   ]
  },
  {
   "cell_type": "code",
   "execution_count": 74,
   "id": "810b479d",
   "metadata": {
    "scrolled": true
   },
   "outputs": [
    {
     "name": "stdout",
     "output_type": "stream",
     "text": [
      "The value of a is 10\n",
      "The value of a is 10\n"
     ]
    }
   ],
   "source": [
    "a = 10\n",
    "print(\"The value of a is\", a) #python3\n",
    "\n",
    "#or \n",
    "\n",
    "print(\"The value of a is \" + str(a))\n",
    "\n",
    "            #before python3 print a(without parenthesis) would've worked just fine"
   ]
  },
  {
   "cell_type": "code",
   "execution_count": 76,
   "id": "690ec856",
   "metadata": {},
   "outputs": [
    {
     "name": "stdout",
     "output_type": "stream",
     "text": [
      "The value of a is 10 and b is 20\n"
     ]
    }
   ],
   "source": [
    "#Output formatting\n",
    "\n",
    "a = 10; b = 20 #multi-statements in single line\n",
    "print(\"The value of a is {} and b is {}\".format(a, b))  #default"
   ]
  },
  {
   "cell_type": "code",
   "execution_count": 77,
   "id": "e2ba3640",
   "metadata": {},
   "outputs": [
    {
     "name": "stdout",
     "output_type": "stream",
     "text": [
      "The value of b is 20 and a is 10\n"
     ]
    }
   ],
   "source": [
    "a = 10; b = 20 #multi-statements in single line\n",
    "\n",
    "print(\"The value of b is {1} and a is {0}\".format(a, b)) \n",
    "#specify position of arguments in function format() in a string\n",
    "#like index 0=a, 1=b"
   ]
  },
  {
   "cell_type": "code",
   "execution_count": 83,
   "id": "d4fba3ac",
   "metadata": {},
   "outputs": [
    {
     "name": "stdout",
     "output_type": "stream",
     "text": [
      "Hello Abhishek, Good Morning\n"
     ]
    }
   ],
   "source": [
    "#we can use keyword argument to format the string (unique to python)\n",
    "\n",
    "print(\"Hello {name}, {greeting}\".format(name=\"Abhishek\", greeting=\"Good Morning\"))"
   ]
  },
  {
   "cell_type": "code",
   "execution_count": null,
   "id": "8cdaebad",
   "metadata": {},
   "outputs": [],
   "source": [
    "#we can combine positional arguments with keyword arguments\n",
    "print('The story of {0},{1}, and {other}'.format('Bill', 'Manfred',other='Georg'))"
   ]
  },
  {
   "cell_type": "markdown",
   "id": "6c0de26b",
   "metadata": {},
   "source": [
    "# Python Input"
   ]
  },
  {
   "cell_type": "code",
   "execution_count": 85,
   "id": "929e9eaa",
   "metadata": {},
   "outputs": [
    {
     "name": "stdout",
     "output_type": "stream",
     "text": [
      "Enter a number: 56\n",
      "56\n"
     ]
    }
   ],
   "source": [
    "num = input(\"Enter a number: \")\n",
    "print(num)"
   ]
  },
  {
   "cell_type": "code",
   "execution_count": 3,
   "id": "35b3a8b6",
   "metadata": {},
   "outputs": [
    {
     "name": "stdout",
     "output_type": "stream",
     "text": [
      "-8\n"
     ]
    }
   ],
   "source": [
    "x, y = 10, 20\n",
    "\n",
    "#addition(+)\n",
    "#subtraction(-)\n",
    "#multiplication(*)\n",
    "#division(/)\n",
    "#modulo division(%)\n",
    "#floor division(//)\n",
    "#exponent(**)\n",
    "\n",
    "print(-15//2)\n",
    "#floor value - closer and less than the output and is a integer.. eg. -8 "
   ]
  },
  {
   "cell_type": "code",
   "execution_count": 4,
   "id": "45c21260",
   "metadata": {},
   "outputs": [
    {
     "name": "stdout",
     "output_type": "stream",
     "text": [
      "16\n"
     ]
    }
   ],
   "source": [
    "print(2**4)   #x**y = x to the power y"
   ]
  },
  {
   "cell_type": "code",
   "execution_count": null,
   "id": "f1793ec4",
   "metadata": {},
   "outputs": [],
   "source": [
    "#Comparison Operator\n",
    "# > , < , == , != , >= , <= "
   ]
  },
  {
   "cell_type": "markdown",
   "id": "74784eae",
   "metadata": {},
   "source": [
    "# Logical Operators\n",
    "\n",
    "Logical operators are **and, or, not** operators."
   ]
  },
  {
   "cell_type": "code",
   "execution_count": 5,
   "id": "d0c28a7e",
   "metadata": {},
   "outputs": [
    {
     "name": "stdout",
     "output_type": "stream",
     "text": [
      "False\n",
      "True\n",
      "False\n"
     ]
    }
   ],
   "source": [
    "a, b = True, False\n",
    "\n",
    "#print a and b\n",
    "print(a and b)\n",
    "\n",
    "#print a or b\n",
    "print(a or b)\n",
    "\n",
    "#print not a\n",
    "print(not a)"
   ]
  },
  {
   "cell_type": "markdown",
   "id": "17ae58b7",
   "metadata": {},
   "source": [
    "## Bitwise Operators\n",
    "\n",
    "&, |, -, ^, >>, << are bitwise operators"
   ]
  },
  {
   "cell_type": "code",
   "execution_count": 7,
   "id": "cd19b438",
   "metadata": {},
   "outputs": [
    {
     "name": "stdout",
     "output_type": "stream",
     "text": [
      "0\n"
     ]
    }
   ],
   "source": [
    "a, b = 10, 4\n",
    "\n",
    "#eg bitwise AND\n",
    "\n",
    "print(a & b)"
   ]
  },
  {
   "cell_type": "markdown",
   "id": "2f867a91",
   "metadata": {},
   "source": [
    "## Assignment Operators\n",
    "\n",
    "=, +=, -=, *=, /=, %=, //=, **=, &=, |=, ^=, >>=, <<= are\n",
    "assignment operators."
   ]
  },
  {
   "cell_type": "code",
   "execution_count": 8,
   "id": "5703cd5f",
   "metadata": {},
   "outputs": [],
   "source": [
    "# a += 10 means a = a + 10"
   ]
  },
  {
   "cell_type": "markdown",
   "id": "b99ec726",
   "metadata": {},
   "source": [
    "## Special Operators\n",
    "\n",
    "### Identity Operators\n",
    "\n",
    "**is and is not** are the identity operator in Python.\n",
    "\n",
    "They are used to check if two values (or variables) are located on the same part of the memory."
   ]
  },
  {
   "cell_type": "code",
   "execution_count": 9,
   "id": "52649009",
   "metadata": {},
   "outputs": [
    {
     "name": "stdout",
     "output_type": "stream",
     "text": [
      "True\n"
     ]
    }
   ],
   "source": [
    "a = 5\n",
    "b = 5\n",
    "\n",
    "print(a is b) #5 is object created once both a and b points to same object\n",
    "\n",
    "#check is not"
   ]
  },
  {
   "cell_type": "markdown",
   "id": "dc17de22",
   "metadata": {},
   "source": [
    "above is not true for list"
   ]
  },
  {
   "cell_type": "code",
   "execution_count": 10,
   "id": "54541392",
   "metadata": {},
   "outputs": [
    {
     "name": "stdout",
     "output_type": "stream",
     "text": [
      "False\n"
     ]
    }
   ],
   "source": [
    "#list\n",
    "\n",
    "list1 = [1, 2, 3]\n",
    "list2 = [1, 2, 3]\n",
    "\n",
    "print(list1 is list2)"
   ]
  },
  {
   "cell_type": "code",
   "execution_count": 11,
   "id": "12fe8b95",
   "metadata": {},
   "outputs": [
    {
     "name": "stdout",
     "output_type": "stream",
     "text": [
      "True\n"
     ]
    }
   ],
   "source": [
    "#strings\n",
    "\n",
    "s1 = \"AAIC\"\n",
    "s2 = \"AAIC\"\n",
    "print(s1 is s2)"
   ]
  },
  {
   "cell_type": "markdown",
   "id": "7f613abe",
   "metadata": {},
   "source": [
    "shows both s1 and s2 strings points to same memory location i.e same string\n",
    "\n",
    "**Only for complex datatypes it's not true**"
   ]
  },
  {
   "cell_type": "markdown",
   "id": "bcd47bdf",
   "metadata": {},
   "source": [
    "## Membership Operators\n",
    "\n",
    "__in and not in__ are the membership operators in Python.\n",
    "\n",
    "They are used to test whether a value or variable is found in a sequence(string, list, tuple, set and dictionary)."
   ]
  },
  {
   "cell_type": "code",
   "execution_count": 13,
   "id": "df5ea113",
   "metadata": {},
   "outputs": [
    {
     "name": "stdout",
     "output_type": "stream",
     "text": [
      "True\n"
     ]
    }
   ],
   "source": [
    "lst = [1, 2, 3, 4]\n",
    "print(1 in lst)  #check 1 is present in a given list or not"
   ]
  },
  {
   "cell_type": "code",
   "execution_count": 16,
   "id": "0947f0e0",
   "metadata": {},
   "outputs": [
    {
     "name": "stdout",
     "output_type": "stream",
     "text": [
      "True\n",
      "True\n",
      "False\n",
      "False\n"
     ]
    }
   ],
   "source": [
    "d = {1: \"a\", 2: \"b\"} #in dictionary membership operators are used only to\n",
    "                    #check key values whether they are present in dictionary or not\n",
    "    \n",
    "print(1 in d)\n",
    "print(2 in d)\n",
    "\n",
    "print(\"a\" in d)\n",
    "print(\"b\" in d)"
   ]
  },
  {
   "cell_type": "markdown",
   "id": "98ae852b",
   "metadata": {},
   "source": [
    "# Control Flow\n",
    "\n",
    "## Python if .. else Statement\n",
    "\n",
    "The **if.. elif.. else** statement is used in Python for decision making.\n",
    "\n",
    "### if statement syntax\n",
    "\n",
    "if test expression:\n",
    "    statement(s)   (4spaces before statement(s))\n",
    "    \n",
    "The program evaluates the test expression and will execute statement(s) only if the text expression is True.\n",
    "\n",
    "If the text expression is False, the statement(s) is not executed.\n",
    "\n",
    "**Python interprets non - zero value as True. None and 0 are interpreted as False**\n",
    "\n",
    "## Flow Chart"
   ]
  },
  {
   "cell_type": "markdown",
   "id": "1ae746ea",
   "metadata": {},
   "source": [
    "## Example"
   ]
  },
  {
   "cell_type": "code",
   "execution_count": 21,
   "id": "dd9709f7",
   "metadata": {},
   "outputs": [
    {
     "name": "stdout",
     "output_type": "stream",
     "text": [
      "Number is positive\n",
      "This will print always\n"
     ]
    }
   ],
   "source": [
    "num  = 10\n",
    "\n",
    "#try 0, -1 and None (-1 is true in Python)\n",
    "if num > 0:\n",
    "    print(\"Number is positive\")\n",
    "print(\"This will print always\")\n",
    "\n",
    "#change number"
   ]
  },
  {
   "cell_type": "markdown",
   "id": "0e027f47",
   "metadata": {},
   "source": [
    "## if.... else Statement\n",
    "\n",
    "### Example:"
   ]
  },
  {
   "cell_type": "code",
   "execution_count": 22,
   "id": "0a77289f",
   "metadata": {},
   "outputs": [
    {
     "name": "stdout",
     "output_type": "stream",
     "text": [
      "Positive Number\n"
     ]
    }
   ],
   "source": [
    "num = 10\n",
    "if num > 0:\n",
    "    print(\"Positive Number\")\n",
    "else:\n",
    "    print(\"Negative Number\")"
   ]
  },
  {
   "cell_type": "markdown",
   "id": "7b4771c4",
   "metadata": {},
   "source": [
    "### if...elif...else Statement\n",
    "\n",
    "### Example:"
   ]
  },
  {
   "cell_type": "code",
   "execution_count": 26,
   "id": "7e6a7c2b",
   "metadata": {},
   "outputs": [
    {
     "name": "stdout",
     "output_type": "stream",
     "text": [
      "Positive Number\n"
     ]
    }
   ],
   "source": [
    "#elif is else if\n",
    "\n",
    "num = 10.5\n",
    "\n",
    "if num > 0:\n",
    "    print(\"Positive Number\")\n",
    "elif num == 0:\n",
    "    print(\"ZERO\")\n",
    "else:\n",
    "    print(\"Negative Number\")"
   ]
  },
  {
   "cell_type": "markdown",
   "id": "222b29ad",
   "metadata": {},
   "source": [
    "## Nested if Statements\n",
    "\n",
    "We can have if...elif...else statement inside another if...elif...else statement. This is called nesting in computer programming.\n",
    "\n",
    "### Example:"
   ]
  },
  {
   "cell_type": "code",
   "execution_count": 27,
   "id": "12615d1f",
   "metadata": {},
   "outputs": [
    {
     "name": "stdout",
     "output_type": "stream",
     "text": [
      "Positive Number\n"
     ]
    }
   ],
   "source": [
    "num = 10.5\n",
    "\n",
    "if num >= 0:\n",
    "    if num == 0:\n",
    "        print(\"ZERO\")\n",
    "    else:\n",
    "        print(\"Positive Number\")\n",
    "else:\n",
    "    print(\"Negative Number\")"
   ]
  },
  {
   "cell_type": "markdown",
   "id": "e80b576f",
   "metadata": {},
   "source": [
    "### Python program to find the largest element among three Numbers"
   ]
  },
  {
   "cell_type": "code",
   "execution_count": 28,
   "id": "86215bf4",
   "metadata": {},
   "outputs": [
    {
     "name": "stdout",
     "output_type": "stream",
     "text": [
      "Largest element among three numbers is: 50\n"
     ]
    }
   ],
   "source": [
    "num1 = 10\n",
    "num2 = 50\n",
    "num3 = 15\n",
    "\n",
    "if (num1 >= num2) and (num1 >= num3):   #Logical Operator AND\n",
    "    largest = num1\n",
    "elif (num2 >= num1) and (num2 >= num3):\n",
    "    largest = num2\n",
    "else:\n",
    "    largest = num3\n",
    "print(\"Largest element among three numbers is: {}\".format(largest))"
   ]
  },
  {
   "cell_type": "markdown",
   "id": "50fe0c08",
   "metadata": {},
   "source": [
    "**if-else is very important if you want how your code shoud execute**"
   ]
  },
  {
   "cell_type": "markdown",
   "id": "874dd9af",
   "metadata": {},
   "source": [
    "# Control Flow: while loop\n",
    "\n",
    "## Python while Loop\n",
    "\n",
    "The while loop in Python is used to iterate over a block of code as long as the test expression(condition) is true.\n",
    "\n",
    "## Syntax:\n",
    "\n",
    "while test_expression:\n",
    "\n",
    "    Body of while\n",
    "    \n",
    "The body of the loop is entered only if the test_expression evaluates to True.\n",
    "\n",
    "After one iteration, the test expression is checked again.\n",
    "\n",
    "This process continues till the test_expression is evaluated false.\n",
    "\n",
    "### Example:"
   ]
  },
  {
   "cell_type": "code",
   "execution_count": 29,
   "id": "cb72ea23",
   "metadata": {},
   "outputs": [
    {
     "name": "stdout",
     "output_type": "stream",
     "text": [
      "Product is: 12000000\n"
     ]
    }
   ],
   "source": [
    "#Find product of all the numbers present in the list:\n",
    "\n",
    "lst = [10, 20, 30, 40, 50]\n",
    "\n",
    "product = 1\n",
    "index = 0\n",
    "\n",
    "while index < len(lst):\n",
    "    product *= lst[index]\n",
    "    index += 1\n",
    "    \n",
    "print(\"Product is: {}\".format(product))"
   ]
  },
  {
   "cell_type": "markdown",
   "id": "2c81fbe6",
   "metadata": {},
   "source": [
    "## while loop with else\n",
    "\n",
    "The else part is executed if the condition in the while loop evaluates to False. The while loop can be terminated with a **break statement**\n",
    "\n",
    "In such case, the else part is ignored. Hence, a while loop's else part runs if no break occurs and the condition is false."
   ]
  },
  {
   "cell_type": "code",
   "execution_count": 31,
   "id": "19295d81",
   "metadata": {},
   "outputs": [
    {
     "name": "stdout",
     "output_type": "stream",
     "text": [
      "1\n",
      "2\n",
      "3\n",
      "4\n",
      "5\n",
      "no item left in the list\n"
     ]
    }
   ],
   "source": [
    "numbers  = [1,2,3,4,5]\n",
    "\n",
    "#iterating over the list\n",
    "\n",
    "index = 0\n",
    "while index < len(numbers):\n",
    "    print(numbers[index])\n",
    "    index += 1\n",
    "else:\n",
    "    print(\"no item left in the list\")"
   ]
  },
  {
   "cell_type": "markdown",
   "id": "7f9cf54c",
   "metadata": {},
   "source": [
    "### Python Program to check given number is Prime number or not"
   ]
  },
  {
   "cell_type": "code",
   "execution_count": 2,
   "id": "75480c01",
   "metadata": {},
   "outputs": [
    {
     "name": "stdout",
     "output_type": "stream",
     "text": [
      "Enter a number: 2\n",
      "2 is a Prime number\n"
     ]
    }
   ],
   "source": [
    "num  = int(input(\"Enter a number: \"))  #convert string to int\n",
    "\n",
    "isDivisible  = False;\n",
    "\n",
    "i=2;\n",
    "while i < num:\n",
    "    if num % i == 0:\n",
    "        isDivisible = True;\n",
    "        print(\"{} is divisible by {}\".format(num,i))\n",
    "    i +=1;\n",
    "    \n",
    "if isDivisible:\n",
    "    print(\"{} is NOT a Prime Number\".format(num))\n",
    "else:\n",
    "    print(\"{} is a Prime number\".format(num))"
   ]
  },
  {
   "cell_type": "markdown",
   "id": "5925af2e",
   "metadata": {},
   "source": [
    "## Python for Loop\n",
    "\n",
    "The for loop in Python is used to iterate over a sequence(list,tuple,string) or other iterable object.\n",
    "Iterating over a sequence is called traversal.\n",
    "\n",
    "### Syntax\n",
    "\n",
    "for **element** in **sequence**:\n",
    "    \n",
    "    Body of for\n",
    "\n",
    "Here, element is the variable that takes the value of the item inside the sequence on each iteration.\n",
    "\n",
    "Loop continues until we reach the last item in the sequence.\n",
    "\n",
    "### Example:"
   ]
  },
  {
   "cell_type": "code",
   "execution_count": 41,
   "id": "6c87d030",
   "metadata": {},
   "outputs": [
    {
     "name": "stdout",
     "output_type": "stream",
     "text": [
      "Product is 12000000\n"
     ]
    }
   ],
   "source": [
    "#find product of all numbers present in a list\n",
    "\n",
    "lst = [10,20,30,40,50]\n",
    "\n",
    "product = 1\n",
    "#iterating over the list\n",
    "for ele in lst:\n",
    "    product *= ele\n",
    "    \n",
    "print(\"Product is {}\".format(product))"
   ]
  },
  {
   "cell_type": "markdown",
   "id": "6ed2c6ec",
   "metadata": {},
   "source": [
    "## range() function\n",
    "\n",
    "### Example"
   ]
  },
  {
   "cell_type": "code",
   "execution_count": 42,
   "id": "b67e23d2",
   "metadata": {},
   "outputs": [
    {
     "name": "stdout",
     "output_type": "stream",
     "text": [
      "0\n",
      "1\n",
      "2\n",
      "3\n",
      "4\n",
      "5\n",
      "6\n",
      "7\n",
      "8\n",
      "9\n"
     ]
    }
   ],
   "source": [
    "#print range of 10\n",
    "for i in range(10):\n",
    "    print(i)\n",
    "    \n",
    "#range(10) here does not produce a explicit list, \n",
    "#it just iterates[saves a lot of space...]\n"
   ]
  },
  {
   "cell_type": "code",
   "execution_count": 43,
   "id": "b8caeb7e",
   "metadata": {},
   "outputs": [
    {
     "name": "stdout",
     "output_type": "stream",
     "text": [
      "1\n",
      "3\n",
      "5\n",
      "7\n",
      "9\n",
      "11\n",
      "13\n",
      "15\n",
      "17\n",
      "19\n"
     ]
    }
   ],
   "source": [
    "#print range of numbers from 1 to 20 with step size of 2\n",
    "for i in range(1,20,2):\n",
    "    print(i)"
   ]
  },
  {
   "cell_type": "code",
   "execution_count": 44,
   "id": "8179f59a",
   "metadata": {},
   "outputs": [
    {
     "name": "stdout",
     "output_type": "stream",
     "text": [
      "satish\n",
      "srinu\n",
      "murali\n",
      "naveen\n",
      "bramha\n",
      "satish\n",
      "srinu\n",
      "murali\n",
      "naveen\n",
      "bramha\n"
     ]
    }
   ],
   "source": [
    "lst = [\"satish\",\"srinu\",\"murali\",\"naveen\",\"bramha\"]\n",
    "    \n",
    "#iterate over the list using index\n",
    "for index in range(len(lst)):\n",
    "    print(lst[index])\n",
    "    \n",
    "#or\n",
    "\n",
    "for ele in lst:         #much more crisp, elegant\n",
    "    print(ele)"
   ]
  },
  {
   "cell_type": "markdown",
   "id": "5357513a",
   "metadata": {},
   "source": [
    "## for loop with else\n",
    "\n",
    "A for loop can have an optional else block as well. The else part is executed if the items in the sequence used in loop exhausts.\n",
    "\n",
    "break statement can be used to stop a for loop. In such case, the else part is ignored.\n",
    "\n",
    "Hence, a for loop's else part runs if no break occurs."
   ]
  },
  {
   "cell_type": "code",
   "execution_count": 46,
   "id": "04583f82",
   "metadata": {},
   "outputs": [
    {
     "name": "stdout",
     "output_type": "stream",
     "text": [
      "1\n",
      "2\n",
      "3\n",
      "no item left in the list\n"
     ]
    }
   ],
   "source": [
    "numbers = [1,2,3]\n",
    "\n",
    "#iterating over the list\n",
    "for item in numbers:\n",
    "    print(item)\n",
    "else:\n",
    "    print(\"no item left in the list\")"
   ]
  },
  {
   "cell_type": "code",
   "execution_count": 47,
   "id": "adb48719",
   "metadata": {},
   "outputs": [
    {
     "name": "stdout",
     "output_type": "stream",
     "text": [
      "1\n",
      "2\n"
     ]
    }
   ],
   "source": [
    "numbers = [1,2,3]\n",
    "\n",
    "for item in numbers:\n",
    "    print(item)\n",
    "    if item % 2 == 0:\n",
    "        break\n",
    "else:\n",
    "    print(\"no item left in the list\")"
   ]
  },
  {
   "cell_type": "markdown",
   "id": "28d6ca4e",
   "metadata": {},
   "source": [
    "### Python Program to display all prime numbers within an interval"
   ]
  },
  {
   "cell_type": "code",
   "execution_count": 48,
   "id": "4c45f5ad",
   "metadata": {},
   "outputs": [
    {
     "name": "stdout",
     "output_type": "stream",
     "text": [
      "Prime numbers between 10 and 50 are :\n",
      "11\n",
      "13\n",
      "17\n",
      "19\n",
      "23\n",
      "29\n",
      "31\n",
      "37\n",
      "41\n",
      "43\n",
      "47\n"
     ]
    }
   ],
   "source": [
    "index1  = 10\n",
    "index2 = 50\n",
    "\n",
    "print(\"Prime numbers between {0} and {1} are :\".format(index1, index2))\n",
    "\n",
    "for num in range(index1, index2+1):  #default step size is 1\n",
    "    if num > 1:\n",
    "        isDivisible = False\n",
    "        for index in range(2, num):\n",
    "            if num % index == 0:\n",
    "                isDivisible = True;\n",
    "        if not isDivisible:\n",
    "            print(num)"
   ]
  },
  {
   "cell_type": "markdown",
   "id": "071516a5",
   "metadata": {},
   "source": [
    "## Python break and continue Statements\n",
    "\n",
    "In Python, break and continue statements can alter the flow of a normal loop.\n",
    "\n",
    "Loops iterate over a block of code until test expression is false, but sometimes we wish to terminate the current iteration or even the whole loop without checking test expression.\n",
    "\n",
    "The break and continue statements are used in this cases.\n",
    "\n",
    "### Python break statement\n",
    "\n",
    "Syntax:\n",
    "\n",
    "    break\n",
    "    \n",
    "### Example:"
   ]
  },
  {
   "cell_type": "code",
   "execution_count": 50,
   "id": "23596e25",
   "metadata": {},
   "outputs": [
    {
     "name": "stdout",
     "output_type": "stream",
     "text": [
      "1\n",
      "2\n",
      "3\n",
      "Outside of for loop\n"
     ]
    }
   ],
   "source": [
    "numbers  = [1,2,3,4]\n",
    "for num in numbers:       #iterating over list\n",
    "    if num  == 4:\n",
    "        break\n",
    "    print(num)\n",
    "else:\n",
    "    print(\"in the else-block\")\n",
    "print(\"Outside of for loop\")    #break will bring here directly as this is for with else"
   ]
  },
  {
   "cell_type": "markdown",
   "id": "79ce59aa",
   "metadata": {},
   "source": [
    "### Python Program to check given number is Prime number or not (using break)"
   ]
  },
  {
   "cell_type": "code",
   "execution_count": 52,
   "id": "f199b078",
   "metadata": {},
   "outputs": [
    {
     "name": "stdout",
     "output_type": "stream",
     "text": [
      "Enter a number: 19\n",
      "19 is a Prime number\n"
     ]
    }
   ],
   "source": [
    "num  = int(input(\"Enter a number: \"))  #convert string to int\n",
    "\n",
    "isDivisible  = False;\n",
    "\n",
    "i=2;\n",
    "while i < num:\n",
    "    if num % i == 0:\n",
    "        isDivisible = True;\n",
    "        print(\"{} is divisible by {}\".format(num,i))\n",
    "        break; # this line is the only addition\n",
    "    i +=1;\n",
    "    \n",
    "if isDivisible:\n",
    "    print(\"{} is NOT a Prime Number\".format(num))\n",
    "else:\n",
    "    print(\"{} is a Prime number\".format(num))"
   ]
  },
  {
   "cell_type": "markdown",
   "id": "3cbeb83f",
   "metadata": {},
   "source": [
    "**Usually 80% of the compilation time is used in loops, above code reduce the number of iterations** "
   ]
  },
  {
   "cell_type": "markdown",
   "id": "f4304d43",
   "metadata": {},
   "source": [
    "## Python Continue Statement\n",
    "\n",
    "syntax:\n",
    "\n",
    "    continue\n",
    "### Example:"
   ]
  },
  {
   "cell_type": "code",
   "execution_count": 53,
   "id": "6fad6469",
   "metadata": {},
   "outputs": [
    {
     "name": "stdout",
     "output_type": "stream",
     "text": [
      "1\n",
      "3\n",
      "5\n",
      "else-block\n"
     ]
    }
   ],
   "source": [
    "#print odd numbers present in the list\n",
    "numbers = [1,2,3,4,5,6]\n",
    "\n",
    "for num in numbers:\n",
    "    if num % 2 == 0:\n",
    "        continue\n",
    "    print(num)\n",
    "else:\n",
    "    print(\"else-block\")"
   ]
  },
  {
   "cell_type": "markdown",
   "id": "b64c9bf7",
   "metadata": {},
   "source": [
    "In above code, unlike break continue doesn't take you out of the else part of the loop it takes you to the starting of the loop"
   ]
  }
 ],
 "metadata": {
  "kernelspec": {
   "display_name": "Python 3 (ipykernel)",
   "language": "python",
   "name": "python3"
  },
  "language_info": {
   "codemirror_mode": {
    "name": "ipython",
    "version": 3
   },
   "file_extension": ".py",
   "mimetype": "text/x-python",
   "name": "python",
   "nbconvert_exporter": "python",
   "pygments_lexer": "ipython3",
   "version": "3.11.5"
  }
 },
 "nbformat": 4,
 "nbformat_minor": 5
}
