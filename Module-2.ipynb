{
 "cells": [
  {
   "cell_type": "markdown",
   "id": "cd2f5bc9",
   "metadata": {},
   "source": [
    "## Python: Data Structures\n",
    "\n",
    "### ~Lists\n",
    "### ~Tuples\n",
    "### ~Sets\n",
    "### ~Dictionary\n",
    "### ~Strings"
   ]
  },
  {
   "cell_type": "markdown",
   "id": "de9dbee6",
   "metadata": {},
   "source": [
    "#### List Creation"
   ]
  },
  {
   "cell_type": "code",
   "execution_count": 1,
   "id": "ab9a2f9d",
   "metadata": {},
   "outputs": [
    {
     "name": "stdout",
     "output_type": "stream",
     "text": [
      "[1, 'ramu', 24, 1.24]\n"
     ]
    }
   ],
   "source": [
    "emptylist = []\n",
    "lst  = ['one','two','three','four'] #list of strings\n",
    "lst2 = [1,2,3,4]  #list of integers\n",
    "lst3 = [[1,2],[3,4]] #list of lists\n",
    "lst4 = [1, 'ramu', 24, 1.24] #list of different datatypes\n",
    "\n",
    "print(lst4)"
   ]
  },
  {
   "cell_type": "markdown",
   "id": "a44dc3fe",
   "metadata": {},
   "source": [
    "### List Creation"
   ]
  },
  {
   "cell_type": "code",
   "execution_count": 2,
   "id": "32b4739d",
   "metadata": {},
   "outputs": [
    {
     "name": "stdout",
     "output_type": "stream",
     "text": [
      "4\n"
     ]
    }
   ],
   "source": [
    "lst  = ['one','two','three','four']\n",
    "\n",
    "#find length of a list\n",
    "print(len(lst))"
   ]
  },
  {
   "cell_type": "markdown",
   "id": "83e0a5ec",
   "metadata": {},
   "source": [
    "## Ways of adding item to the list\n",
    "\n",
    "## List Append"
   ]
  },
  {
   "cell_type": "code",
   "execution_count": 3,
   "id": "1778d15d",
   "metadata": {},
   "outputs": [
    {
     "name": "stdout",
     "output_type": "stream",
     "text": [
      "['one', 'two', 'three', 'four', 'five']\n"
     ]
    }
   ],
   "source": [
    "lst  = ['one','two','three','four']\n",
    "\n",
    "lst.append('five')  # append will add item at the end\n",
    "\n",
    "print(lst)"
   ]
  },
  {
   "cell_type": "markdown",
   "id": "4ccaae1c",
   "metadata": {},
   "source": [
    "## List Insert"
   ]
  },
  {
   "cell_type": "code",
   "execution_count": 4,
   "id": "6a874069",
   "metadata": {},
   "outputs": [
    {
     "name": "stdout",
     "output_type": "stream",
     "text": [
      "['one', 'two', 'three', 'four']\n"
     ]
    }
   ],
   "source": [
    "#syntax: lst.inster(x, y)\n",
    "\n",
    "lst  = ['one','two','four']\n",
    "\n",
    "lst.insert(2, \"three\") #will add element y at location x\n",
    "\n",
    "print(lst)"
   ]
  },
  {
   "cell_type": "markdown",
   "id": "77697136",
   "metadata": {},
   "source": [
    "## List Remove"
   ]
  },
  {
   "cell_type": "code",
   "execution_count": 5,
   "id": "0de06406",
   "metadata": {},
   "outputs": [
    {
     "name": "stdout",
     "output_type": "stream",
     "text": [
      "['one', 'three', 'four', 'two']\n"
     ]
    }
   ],
   "source": [
    "#syntax: lst.remove(x)\n",
    "\n",
    "lst  = ['one','two','three','four','two']\n",
    "\n",
    "lst.remove('two') #it will remove first occurenc of 'two' in a given list\n",
    "\n",
    "print(lst)"
   ]
  },
  {
   "cell_type": "markdown",
   "id": "22c0a199",
   "metadata": {},
   "source": []
  }
 ],
 "metadata": {
  "kernelspec": {
   "display_name": "Python 3 (ipykernel)",
   "language": "python",
   "name": "python3"
  },
  "language_info": {
   "codemirror_mode": {
    "name": "ipython",
    "version": 3
   },
   "file_extension": ".py",
   "mimetype": "text/x-python",
   "name": "python",
   "nbconvert_exporter": "python",
   "pygments_lexer": "ipython3",
   "version": "3.11.5"
  }
 },
 "nbformat": 4,
 "nbformat_minor": 5
}
